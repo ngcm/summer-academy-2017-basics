{
 "cells": [
  {
   "cell_type": "code",
   "execution_count": 42,
   "metadata": {
    "collapsed": true
   },
   "outputs": [],
   "source": [
    "import matplotlib.pyplot as plt\n",
    "import numpy as np\n",
    "%matplotlib inline"
   ]
  },
  {
   "cell_type": "markdown",
   "metadata": {},
   "source": [
    "# <font color='mediumblue'> What are classes?\n",
    "\n",
    "* A way of organising your code\n",
    "* Data is inherently linked to the things you can do with it.\n",
    "## Pros\n",
    "* Can do everything you can do without classes, but idea is to make it *easier*\n",
    "* Classes encourage code reuse through a concept called \"inheritance\" - we will discuss later.\n",
    "## Cons\n",
    "* Can make your code more complicated, and without careful thinking, harder to maintain.\n",
    "* More work for the developer."
   ]
  },
  {
   "cell_type": "markdown",
   "metadata": {},
   "source": [
    "### <font color='mediumblue'> Start by defining some terminology - Classes vs Objects vs Instances\n",
    "* Often used interchangably but they are different concepts.\n",
    "* A Class is like a template - you could consider the class \"Car\"\n",
    "* An object is a particular occurence of a class - so, for example, you could have \"Ford Mondeo\", \"Vauxhall Astra\", \"Lamborghini Gallardo\" be **objects** of type \"Car\".\n",
    "* An instance is a unique **single** object.\n"
   ]
  },
  {
   "cell_type": "markdown",
   "metadata": {},
   "source": [
    "### <font color='mediumblue'> Where are classes used in Python? Everywhere!"
   ]
  },
  {
   "cell_type": "markdown",
   "metadata": {},
   "source": [
    "You've been using classes all of the time, without even knowing it. Everything in Python is an **object**. You have some **data** (number, text, etc.)with some **methods** (or functions) which are internal to the object, and which you can use on that data. Lets look at a few examples..."
   ]
  },
  {
   "cell_type": "code",
   "execution_count": null,
   "metadata": {
    "collapsed": true
   },
   "outputs": [],
   "source": []
  },
  {
   "cell_type": "markdown",
   "metadata": {},
   "source": [
    "How can I see what methods an object of type float has?"
   ]
  },
  {
   "cell_type": "code",
   "execution_count": null,
   "metadata": {
    "collapsed": false
   },
   "outputs": [],
   "source": []
  },
  {
   "cell_type": "code",
   "execution_count": null,
   "metadata": {
    "collapsed": false
   },
   "outputs": [],
   "source": []
  },
  {
   "cell_type": "markdown",
   "metadata": {},
   "source": [
    "### <font color='midnightblue'> Aside - What do all those underscores mean?\n",
    " \n",
    "They're *hidden* methods - we'll talk more about these later."
   ]
  },
  {
   "cell_type": "markdown",
   "metadata": {},
   "source": [
    "## <font color='mediumblue'> Creating a class\n",
    "\n",
    "Define some key things:\n",
    "* self - 'self' is a special type of variable which can be used inside the class to refer to itself.\n",
    "* Methods - a function which is part of a class, and which have access to data held by a class.\n",
    "* A constructor - a special method which is called when you create an instance of a class. In Python this function must be called \"\\_\\_init\\_\\_\"\n",
    "* A destructor - a special method which is called when you destroy an instance of a class.\n",
    "\n",
    "Aside: If you're a C++/Java programmer, 'self' is exactly equivalent to 'this', but functions *must* have self as an argument, as it is passed in implicitly as the first argument of any method call in Python."
   ]
  },
  {
   "cell_type": "code",
   "execution_count": null,
   "metadata": {
    "collapsed": true
   },
   "outputs": [],
   "source": []
  },
  {
   "cell_type": "markdown",
   "metadata": {},
   "source": [
    "##  <font color='mediumblue'> Using the class\n",
    "Use the same syntax as we use to call a function, *BUT* the arguments get passed in to the \"\\_\\_init\\_\\_\" function. Note that you *ignore* the self object, as Python sorts this out."
   ]
  },
  {
   "cell_type": "code",
   "execution_count": null,
   "metadata": {
    "collapsed": false
   },
   "outputs": [],
   "source": []
  },
  {
   "cell_type": "markdown",
   "metadata": {},
   "source": [
    "How do I access data stored in the class? with the \".\", followed by the name."
   ]
  },
  {
   "cell_type": "code",
   "execution_count": null,
   "metadata": {
    "collapsed": false
   },
   "outputs": [],
   "source": []
  },
  {
   "cell_type": "markdown",
   "metadata": {},
   "source": [
    "What happens though if we reuse the variable name 'a'?\n",
    "\n",
    "Aside:\n",
    "* Your computer has Random Access Memory (RAM) which is used to store information.\n",
    "* Whenever, in a programming language, you tell the language to store something, you effectively create a 'box' of memory to put those values in.\n",
    "* The location of the specific 'box' is known as a 'memory address'\n",
    "* You can see the memory address of a Python object quite easily:"
   ]
  },
  {
   "cell_type": "code",
   "execution_count": null,
   "metadata": {
    "collapsed": false
   },
   "outputs": [],
   "source": []
  },
  {
   "cell_type": "markdown",
   "metadata": {},
   "source": [
    "So, what happens if we either choose to store something else under the name 'a', or tell Python to delte it?"
   ]
  },
  {
   "cell_type": "code",
   "execution_count": null,
   "metadata": {
    "collapsed": false
   },
   "outputs": [],
   "source": []
  },
  {
   "cell_type": "code",
   "execution_count": null,
   "metadata": {
    "collapsed": true
   },
   "outputs": [],
   "source": []
  },
  {
   "cell_type": "markdown",
   "metadata": {},
   "source": [
    "### Why bother? This can be achieved without classes very easily:"
   ]
  },
  {
   "cell_type": "code",
   "execution_count": null,
   "metadata": {
    "collapsed": false
   },
   "outputs": [],
   "source": []
  },
  {
   "cell_type": "markdown",
   "metadata": {},
   "source": [
    "### Need a better example!\n",
    "\n",
    "How about a Simulation class?\n",
    "* Write once, but can take different parameters.\n",
    "* Can include data analysis methods as well\n"
   ]
  },
  {
   "cell_type": "markdown",
   "metadata": {
    "collapsed": true
   },
   "source": [
    "# <font color='mediumblue'> Consider a 1-D box of some length:\n",
    "What information does it need to know about itself?\n",
    "* How big is the box?"
   ]
  },
  {
   "cell_type": "code",
   "execution_count": null,
   "metadata": {
    "collapsed": true
   },
   "outputs": [],
   "source": []
  },
  {
   "cell_type": "markdown",
   "metadata": {},
   "source": [
    "What we're going to try and do is add particles to the box, which have some properties:\n",
    "* An initial position.\n",
    "* An initial velocity\n",
    "\n",
    "    $r(t + \\delta t) \\approx r(t) + v(t)\\delta t$"
   ]
  },
  {
   "cell_type": "code",
   "execution_count": null,
   "metadata": {
    "collapsed": true
   },
   "outputs": [],
   "source": []
  },
  {
   "cell_type": "markdown",
   "metadata": {},
   "source": [
    "Lets just check this, if a Particle is in a box of length 10, has r0 = 0, v0=5, then after 1 step of length 3, the position should be at position 5:"
   ]
  },
  {
   "cell_type": "code",
   "execution_count": null,
   "metadata": {
    "collapsed": false
   },
   "outputs": [],
   "source": []
  },
  {
   "cell_type": "markdown",
   "metadata": {
    "collapsed": true
   },
   "source": [
    "Lets add a place to store the particles to the box class, and add a method to add particles to the box:"
   ]
  },
  {
   "cell_type": "code",
   "execution_count": null,
   "metadata": {
    "collapsed": true
   },
   "outputs": [],
   "source": []
  },
  {
   "cell_type": "markdown",
   "metadata": {},
   "source": [
    "## <font color='mediumblue'> Now lets get you to do something...\n",
    "\n",
    "Tasks (30-40 minutes):\n",
    "\n",
    "1) Add a method that calculates the average position of Particles in the box (Hint: you might have to think about what to do when there are no particles!)\n",
    "\n",
    "2) Add a method that makes all of the particles step forwards, and keep track of how much time has passed in the box class.\n",
    "\n",
    "3) Add a method which plots the current position of the particles in the box.\n",
    "\n",
    "4) Write a method that writes the current positions and velocities to a CSV file.\n",
    "\n",
    "5) Write a method that can load a CSV file of positions and velocities, create particles with these and then add them to the Box list of particles. (Hint: Look up the documentation for the module 'csv')"
   ]
  },
  {
   "cell_type": "code",
   "execution_count": null,
   "metadata": {
    "collapsed": true
   },
   "outputs": [],
   "source": []
  },
  {
   "cell_type": "code",
   "execution_count": null,
   "metadata": {
    "collapsed": true
   },
   "outputs": [],
   "source": []
  },
  {
   "cell_type": "code",
   "execution_count": null,
   "metadata": {
    "collapsed": false
   },
   "outputs": [],
   "source": []
  },
  {
   "cell_type": "code",
   "execution_count": null,
   "metadata": {
    "collapsed": false
   },
   "outputs": [],
   "source": []
  },
  {
   "cell_type": "markdown",
   "metadata": {},
   "source": [
    "## <font color='mediumblue'> Class Properties"
   ]
  },
  {
   "cell_type": "markdown",
   "metadata": {},
   "source": [
    "* Properties can be used to do interesting things\n",
    "* Special functions as part of a class that we mark with a 'decorator' - '@property'\n",
    "* Lets adjust the class Particle we used to make its data members a property of the class. We also need to write a 'setter' method to set the data members.\n"
   ]
  },
  {
   "cell_type": "code",
   "execution_count": null,
   "metadata": {
    "collapsed": true
   },
   "outputs": [],
   "source": []
  },
  {
   "cell_type": "markdown",
   "metadata": {},
   "source": [
    "## <font color='midnightblue'> Why bother? It looks the same when we use it!\n",
    "\n",
    "* Well known in programming - 'an interface is a contract'\n",
    "* You might want to at some point rewrite a large portion of the underlying data - how it is stored for example.\n",
    "* If you do this without using properties to access the data, you then need to go through all code that uses this class and change it to use the new variable names."
   ]
  },
  {
   "cell_type": "markdown",
   "metadata": {},
   "source": [
    "# <font color='mediumblue'> Inheritance"
   ]
  },
  {
   "cell_type": "markdown",
   "metadata": {},
   "source": [
    "* Last part of the course on Classes, but also one of the main reason for using classes!\n",
    "* Inheritance allows you to reuse parts of the code, but change some of the methods. Lets see how it might be useful...\n",
    "\n"
   ]
  },
  {
   "cell_type": "code",
   "execution_count": null,
   "metadata": {
    "collapsed": true
   },
   "outputs": [],
   "source": []
  },
  {
   "cell_type": "markdown",
   "metadata": {},
   "source": [
    "* Here we have **inherited** most of the class Particle, and just changed the method 'step' to do something differently. Because we kept the properties the same, we can use this class everywhere that we could use Particle - our Box class can take a mixture of Particles and SlowParticles"
   ]
  },
  {
   "cell_type": "markdown",
   "metadata": {},
   "source": [
    "# <font color='mediumblue'> Magic Methods:\n",
    "Remember earlier, when we did:\n"
   ]
  },
  {
   "cell_type": "code",
   "execution_count": null,
   "metadata": {
    "collapsed": false
   },
   "outputs": [],
   "source": []
  },
  {
   "cell_type": "markdown",
   "metadata": {},
   "source": [
    "Notice that there is a method \"\\_\\_add\\_\\_\" - we can define these special methods to allow our class to do things that you can ordinarily do with built in types."
   ]
  },
  {
   "cell_type": "code",
   "execution_count": null,
   "metadata": {
    "collapsed": true
   },
   "outputs": [],
   "source": []
  },
  {
   "cell_type": "markdown",
   "metadata": {},
   "source": [
    "Now we've created an 'add' method, we can, create two boxes and add these together!"
   ]
  },
  {
   "cell_type": "code",
   "execution_count": null,
   "metadata": {
    "collapsed": false
   },
   "outputs": [],
   "source": []
  },
  {
   "cell_type": "markdown",
   "metadata": {},
   "source": [
    "# Looks good! But hang on..."
   ]
  },
  {
   "cell_type": "code",
   "execution_count": null,
   "metadata": {
    "collapsed": false
   },
   "outputs": [],
   "source": []
  },
  {
   "cell_type": "code",
   "execution_count": null,
   "metadata": {
    "collapsed": true
   },
   "outputs": [],
   "source": []
  },
  {
   "cell_type": "code",
   "execution_count": null,
   "metadata": {
    "collapsed": false
   },
   "outputs": [],
   "source": []
  },
  {
   "cell_type": "markdown",
   "metadata": {},
   "source": [
    "Why has the mean position of particles in Box C changed? Look at the memory address of the particles:"
   ]
  },
  {
   "cell_type": "code",
   "execution_count": null,
   "metadata": {
    "collapsed": false
   },
   "outputs": [],
   "source": []
  },
  {
   "cell_type": "markdown",
   "metadata": {},
   "source": [
    "Boxes are pointing to the SAME particles!\n",
    "If we don't want this to happen, we need to write a 'copy' constructor for the class - a function which knows how to create an identical copy of the particle! \n",
    "\n",
    "We can do this by using the 'deepcopy' function in the 'copy' module, and redefine the particle and slow particle classes:"
   ]
  },
  {
   "cell_type": "code",
   "execution_count": null,
   "metadata": {
    "collapsed": true
   },
   "outputs": [],
   "source": []
  },
  {
   "cell_type": "markdown",
   "metadata": {},
   "source": [
    "Then, we should change the Box class's '__add__' method, to use this copy operation rather than just append the child particles of the existing boxes:"
   ]
  },
  {
   "cell_type": "code",
   "execution_count": null,
   "metadata": {
    "collapsed": true
   },
   "outputs": [],
   "source": []
  },
  {
   "cell_type": "code",
   "execution_count": null,
   "metadata": {
    "collapsed": true
   },
   "outputs": [],
   "source": []
  },
  {
   "cell_type": "code",
   "execution_count": null,
   "metadata": {
    "collapsed": false
   },
   "outputs": [],
   "source": []
  },
  {
   "cell_type": "code",
   "execution_count": null,
   "metadata": {
    "collapsed": true
   },
   "outputs": [],
   "source": []
  }
 ],
 "metadata": {
  "kernelspec": {
   "display_name": "Python 3",
   "language": "python",
   "name": "python3"
  },
  "language_info": {
   "codemirror_mode": {
    "name": "ipython",
    "version": 3
   },
   "file_extension": ".py",
   "mimetype": "text/x-python",
   "name": "python",
   "nbconvert_exporter": "python",
   "pygments_lexer": "ipython3",
   "version": "3.6.0"
  }
 },
 "nbformat": 4,
 "nbformat_minor": 2
}
