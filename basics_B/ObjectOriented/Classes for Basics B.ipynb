{
 "cells": [
  {
   "cell_type": "code",
   "execution_count": 116,
   "metadata": {
    "collapsed": true
   },
   "outputs": [],
   "source": [
    "from __future__ import division\n",
    "import matplotlib.pyplot as plt\n",
    "%matplotlib inline"
   ]
  },
  {
   "cell_type": "markdown",
   "metadata": {
    "deletable": true,
    "editable": true
   },
   "source": [
    "# What are classes?\n",
    "\n",
    "* A way of organising your code\n",
    "* Data is inherently linked to the things you can do with it.\n",
    "## Pros\n",
    "* Can do everything you can do without classes, but idea is to make it *easier*\n",
    "* Classes encourage code reuse through a concept called \"inheritance\" - we will discuss later.\n",
    "## Cons\n",
    "* Can make your code more complicated, and without careful thinking, harder to maintain.\n",
    "* More work for the developer."
   ]
  },
  {
   "cell_type": "markdown",
   "metadata": {
    "deletable": true,
    "editable": true
   },
   "source": [
    "### Start by defining some terminology - Classes vs Objects vs Instances\n",
    "* Often used interchangably but they are different concepts.\n",
    "* A Class is like a template - you could consider the class \"Car\"\n",
    "* An object is a particular occurence of a class - so, for example, you could have \"Ford Mondeo\", \"Vauxhall Astra\", \"Lamborghini Gallardo\" be **objects** of type \"Car\".\n",
    "* An instance is a unique **single** object.\n"
   ]
  },
  {
   "cell_type": "markdown",
   "metadata": {
    "deletable": true,
    "editable": true
   },
   "source": [
    "### Where are classes used in Python? Everywhere!"
   ]
  },
  {
   "cell_type": "markdown",
   "metadata": {
    "deletable": true,
    "editable": true
   },
   "source": [
    "You've been using classes all of the time, without even knowing it. Everything in Python is an **object**. You have some **data** (number, text, etc.)with some **methods** (or functions) which are internal to the object, and which you can use on that data. Lets look at a few examples..."
   ]
  },
  {
   "cell_type": "code",
   "execution_count": 1,
   "metadata": {
    "collapsed": true,
    "deletable": true,
    "editable": true
   },
   "outputs": [],
   "source": [
    "a = 10.1"
   ]
  },
  {
   "cell_type": "code",
   "execution_count": 2,
   "metadata": {
    "collapsed": false,
    "deletable": true,
    "editable": true
   },
   "outputs": [
    {
     "data": {
      "text/plain": [
       "float"
      ]
     },
     "execution_count": 2,
     "metadata": {},
     "output_type": "execute_result"
    }
   ],
   "source": [
    "type(a)"
   ]
  },
  {
   "cell_type": "markdown",
   "metadata": {},
   "source": [
    "How can I see what methods an object of type float has?"
   ]
  },
  {
   "cell_type": "code",
   "execution_count": 3,
   "metadata": {
    "collapsed": false,
    "deletable": true,
    "editable": true
   },
   "outputs": [
    {
     "name": "stdout",
     "output_type": "stream",
     "text": [
      "['__abs__', '__add__', '__class__', '__coerce__', '__delattr__', '__div__', '__divmod__', '__doc__', '__eq__', '__float__', '__floordiv__', '__format__', '__ge__', '__getattribute__', '__getformat__', '__getnewargs__', '__gt__', '__hash__', '__init__', '__int__', '__le__', '__long__', '__lt__', '__mod__', '__mul__', '__ne__', '__neg__', '__new__', '__nonzero__', '__pos__', '__pow__', '__radd__', '__rdiv__', '__rdivmod__', '__reduce__', '__reduce_ex__', '__repr__', '__rfloordiv__', '__rmod__', '__rmul__', '__rpow__', '__rsub__', '__rtruediv__', '__setattr__', '__setformat__', '__sizeof__', '__str__', '__sub__', '__subclasshook__', '__truediv__', '__trunc__', 'as_integer_ratio', 'conjugate', 'fromhex', 'hex', 'imag', 'is_integer', 'real']\n"
     ]
    }
   ],
   "source": [
    "print(dir(a)) # Show all of the methods of a"
   ]
  },
  {
   "cell_type": "code",
   "execution_count": 4,
   "metadata": {
    "collapsed": false,
    "deletable": true,
    "editable": true
   },
   "outputs": [
    {
     "data": {
      "text/plain": [
       "False"
      ]
     },
     "execution_count": 4,
     "metadata": {},
     "output_type": "execute_result"
    }
   ],
   "source": [
    "a.is_integer()"
   ]
  },
  {
   "cell_type": "markdown",
   "metadata": {
    "deletable": true,
    "editable": true
   },
   "source": [
    "### Aside - What do all those underscores mean?\n",
    " \n",
    "They're *hidden* methods - we'll talk more about these later."
   ]
  },
  {
   "cell_type": "markdown",
   "metadata": {
    "deletable": true,
    "editable": true
   },
   "source": [
    "## Creating a class\n",
    "\n",
    "Define some key things:\n",
    "* self - 'self' is a special type of variable which can be used inside the class to refer to itself.\n",
    "* Methods - a function which is part of a class, and which have access to data held by a class.\n",
    "* A constructor - a special method which is called when you create an instance of a class. In Python this function must be called \"\\_\\_init\\_\\_\"\n",
    "* A destructor - a special method which is called when you destroy an instance of a class.\n",
    "\n",
    "Aside: If you're a C++/Java programmer, 'self' is exactly equivalent to 'this', but functions *must* have self as an argument, as it is passed in implicitly as the first argument of any method call in Python."
   ]
  },
  {
   "cell_type": "code",
   "execution_count": 72,
   "metadata": {
    "collapsed": true,
    "deletable": true,
    "editable": true
   },
   "outputs": [],
   "source": [
    "# Create a class by using class keyword followed by name.\n",
    "class MyClass:\n",
    "    # The 'self' variable ALWAYS needs to be the first variable given to any class method.\n",
    "    def __init__(self, message):\n",
    "        # Here we create a new variable inside \"self\" called \"mess\" and save the argument \"message\"\n",
    "        #  passed from the constructor to it.\n",
    "        self.mess = message\n",
    "    \n",
    "    def say(self):\n",
    "        print(self.mess)\n",
    "    \n",
    "        \n",
    "    # Don't normally need to write a destructor - one is created by Python automatically. However we do it here\n",
    "    # just to show you that it can be done:\n",
    "    def __del__(self):\n",
    "        print(\"Deleting object of type MyClass\")"
   ]
  },
  {
   "cell_type": "markdown",
   "metadata": {
    "deletable": true,
    "editable": true
   },
   "source": [
    "##  Using the class\n",
    "Use the same syntax as we use to call a function, *BUT* the arguments get passed in to the \"\\_\\_init\\_\\_\" function. Note that you *ignore* the self object, as Python sorts this out."
   ]
  },
  {
   "cell_type": "code",
   "execution_count": 73,
   "metadata": {
    "collapsed": false,
    "deletable": true,
    "editable": true
   },
   "outputs": [
    {
     "name": "stdout",
     "output_type": "stream",
     "text": [
      "Hello\n"
     ]
    }
   ],
   "source": [
    "a = MyClass(\"Hello\")\n",
    "print(a.mess)"
   ]
  },
  {
   "cell_type": "markdown",
   "metadata": {},
   "source": [
    "How do I access data stored in the class? with the \".\", followed by the name."
   ]
  },
  {
   "cell_type": "code",
   "execution_count": 74,
   "metadata": {
    "collapsed": false,
    "deletable": true,
    "editable": true
   },
   "outputs": [
    {
     "name": "stdout",
     "output_type": "stream",
     "text": [
      "Hello\n"
     ]
    }
   ],
   "source": [
    "# But, we also defined a method called \"say\" which does the same thing:\n",
    "a.say()"
   ]
  },
  {
   "cell_type": "markdown",
   "metadata": {},
   "source": [
    "What happens though if we reuse the variable name 'a'?\n",
    "\n",
    "Aside:\n",
    "* Your computer has Random Access Memory (RAM) which is used to store information.\n",
    "* Whenever, in a programming language, you tell the language to store something, you effectively create a 'box' of memory to put those values in.\n",
    "* The location of the specific 'box' is known as a 'memory address'\n",
    "* You can see the memory address of a Python object quite easily:"
   ]
  },
  {
   "cell_type": "code",
   "execution_count": 75,
   "metadata": {
    "collapsed": false
   },
   "outputs": [
    {
     "name": "stdout",
     "output_type": "stream",
     "text": [
      "<__main__.MyClass instance at 0x1031033f8>\n"
     ]
    }
   ],
   "source": [
    "print(a)\n"
   ]
  },
  {
   "cell_type": "markdown",
   "metadata": {},
   "source": [
    "So, what happens if we either choose to store something else under the name 'a', or tell Python to delte it?"
   ]
  },
  {
   "cell_type": "code",
   "execution_count": 76,
   "metadata": {
    "collapsed": false
   },
   "outputs": [
    {
     "name": "stdout",
     "output_type": "stream",
     "text": [
      "Deleting object of type MyClass\n",
      "Deleting object of type MyClass\n"
     ]
    }
   ],
   "source": [
    "del a\n",
    "a = MyClass('Hello')\n",
    "a = 2"
   ]
  },
  {
   "cell_type": "code",
   "execution_count": null,
   "metadata": {
    "collapsed": false
   },
   "outputs": [],
   "source": []
  },
  {
   "cell_type": "markdown",
   "metadata": {
    "deletable": true,
    "editable": true
   },
   "source": [
    "### Why bother? This can be achieved without classes very easily:"
   ]
  },
  {
   "cell_type": "code",
   "execution_count": null,
   "metadata": {
    "collapsed": false,
    "deletable": true,
    "editable": true
   },
   "outputs": [],
   "source": [
    "mess = \"Hello\"\n",
    "\n",
    "def say(mess):\n",
    "    print(mess)\n",
    "    \n",
    "say(mess)"
   ]
  },
  {
   "cell_type": "markdown",
   "metadata": {
    "deletable": true,
    "editable": true
   },
   "source": [
    "## Need a better example!\n",
    "\n",
    "How about a Simulation class?\n",
    "* Write once, but can take different parameters.\n",
    "* Can include data analysis methods as well\n"
   ]
  },
  {
   "cell_type": "markdown",
   "metadata": {
    "collapsed": true,
    "deletable": true,
    "editable": true
   },
   "source": [
    "# Consider a 1-D box of some length:\n",
    "What information does it need to know about itself?\n",
    "* How big is the box?"
   ]
  },
  {
   "cell_type": "code",
   "execution_count": null,
   "metadata": {
    "collapsed": true
   },
   "outputs": [],
   "source": [
    "class Box:\n",
    "    def __init__(self, length):\n",
    "        self.length = length"
   ]
  },
  {
   "cell_type": "markdown",
   "metadata": {},
   "source": [
    "What we're going to try and do is add particles to the box, which have some properties:\n",
    "* An initial position.\n",
    "* An initial velocity\n",
    "\n",
    "    $r(t + \\delta t) \\approx r(t) + v(t)\\delta t$"
   ]
  },
  {
   "cell_type": "code",
   "execution_count": 78,
   "metadata": {
    "collapsed": true
   },
   "outputs": [],
   "source": [
    "class Particle:\n",
    "    def __init__(self, r0, v0):\n",
    "        \"\"\"\n",
    "        r0 = initial position\n",
    "        v0 = initial speed\n",
    "        \"\"\"\n",
    "        self.r = r0\n",
    "        self.v = v0\n",
    "    \n",
    "    def step(self, dt, L):\n",
    "        \"\"\"\n",
    "        Move the particle\n",
    "        dt = timestep\n",
    "        L = length of the containing box\n",
    "        \"\"\"\n",
    "        self.r = self.r + self.v * dt\n",
    "        \n",
    "        if self.r >= L:\n",
    "            self.r -= L\n",
    "        elif self.r < 0:\n",
    "            self.r += L\n",
    "    "
   ]
  },
  {
   "cell_type": "markdown",
   "metadata": {},
   "source": [
    "Lets just check this, if a Particle is in a box of length 10, has r0 = 0, v0=5, then after 1 step of length 3, the position should be at position 5:"
   ]
  },
  {
   "cell_type": "code",
   "execution_count": 82,
   "metadata": {
    "collapsed": false
   },
   "outputs": [
    {
     "name": "stdout",
     "output_type": "stream",
     "text": [
      "5\n"
     ]
    }
   ],
   "source": [
    "p = Particle(0, 5)\n",
    "p.step(3, 10)\n",
    "print(p.r)"
   ]
  },
  {
   "cell_type": "markdown",
   "metadata": {
    "collapsed": true
   },
   "source": [
    "Lets add a place to store the particles to the box class, and add a method to add particles to the box:"
   ]
  },
  {
   "cell_type": "code",
   "execution_count": 83,
   "metadata": {
    "collapsed": true
   },
   "outputs": [],
   "source": [
    "class Box:\n",
    "    def __init__(self, length):\n",
    "        self.length = length\n",
    "        self.particles = []\n",
    "    \n",
    "    def add_particle(particle):\n",
    "        self.particles.append(particle)"
   ]
  },
  {
   "cell_type": "markdown",
   "metadata": {},
   "source": [
    "## Now lets get you to do something...\n",
    "\n",
    "Tasks (30-40 minutes):\n",
    "\n",
    "1) Add a method that calculates the average position of Particles in the box (Hint: you might have to think about what to do when there are no particles!)\n",
    "\n",
    "2) Add a method that makes all of the particles step forwards, and keep track of how much time has passed in the box class.\n",
    "\n",
    "3) Add a method which plots the current position of the particles in the box.\n",
    "\n",
    "4) Write a method that writes the current positions and velocities to a file.\n",
    "\n",
    "5) Write a method that can load a CSV file of positions and velocities, create particles with these and then add them to the Box list of particles. (Hint: Look up the documentation for the module 'csv')"
   ]
  },
  {
   "cell_type": "code",
   "execution_count": null,
   "metadata": {
    "collapsed": true
   },
   "outputs": [],
   "source": []
  },
  {
   "cell_type": "code",
   "execution_count": 155,
   "metadata": {
    "collapsed": true
   },
   "outputs": [],
   "source": [
    "class Box:\n",
    "    def __init__(self, length):\n",
    "        self.length = length\n",
    "        self.particles = []\n",
    "        self.t = 0\n",
    "        \n",
    "    def add_particle(self, particle):\n",
    "        self.particles.append(particle)\n",
    "    \n",
    "    def step(self, dt):\n",
    "        for particle in self.particles:\n",
    "            particle.step(dt, self.length)\n",
    "            \n",
    "    def write(self, filename):\n",
    "        f = open(filename, 'w')\n",
    "        for particle in self.particles:\n",
    "            f.write('{},{}\\n'.format(particle.r, particle.v))\n",
    "        f.close()\n",
    "        \n",
    "    def plot(self):\n",
    "        for particle in self.particles:\n",
    "            plt.scatter(particle.r, 0)\n",
    "            \n",
    "    def load(self, filename):\n",
    "        f = open(filename, 'r')\n",
    "        csvfile = csv.reader(f)\n",
    "        for position, velocity in csvfile:\n",
    "            p = Particle(position, velocity)\n",
    "            self.add_particle(p)\n",
    "        "
   ]
  },
  {
   "cell_type": "code",
   "execution_count": 138,
   "metadata": {
    "collapsed": false
   },
   "outputs": [],
   "source": [
    "b = Box(10)\n",
    "\n",
    "\n",
    "for i in range(10):\n",
    "    p = Particle(i/2, i/3)\n",
    "    b.add_particle(p)\n",
    "    \n",
    "b.write('test.csv')"
   ]
  },
  {
   "cell_type": "code",
   "execution_count": 118,
   "metadata": {
    "collapsed": false
   },
   "outputs": [
    {
     "data": {
      "image/png": "[encoded data removed]",
      "text/plain": [
       "<matplotlib.figure.Figure at 0x1042765d0>"
      ]
     },
     "metadata": {},
     "output_type": "display_data"
    }
   ],
   "source": [
    "b.plot()"
   ]
  },
  {
   "cell_type": "code",
   "execution_count": 134,
   "metadata": {
    "collapsed": false
   },
   "outputs": [
    {
     "data": {
      "image/png": "[encoded data removed]",
      "text/plain": [
       "<matplotlib.figure.Figure at 0x104f3b8d0>"
      ]
     },
     "metadata": {},
     "output_type": "display_data"
    }
   ],
   "source": [
    "b.step(1)\n",
    "b.plot()"
   ]
  },
  {
   "cell_type": "code",
   "execution_count": 108,
   "metadata": {
    "collapsed": false
   },
   "outputs": [],
   "source": [
    "b.write('test.csv')"
   ]
  },
  {
   "cell_type": "code",
   "execution_count": 109,
   "metadata": {
    "collapsed": false
   },
   "outputs": [
    {
     "name": "stdout",
     "output_type": "stream",
     "text": [
      "0.0,0.0\r\n",
      "0.5,0.333333333333\r\n",
      "1.0,0.666666666667\r\n",
      "1.5,1.0\r\n",
      "2.0,1.33333333333\r\n",
      "2.5,1.66666666667\r\n",
      "3.0,2.0\r\n",
      "3.5,2.33333333333\r\n",
      "4.0,2.66666666667\r\n",
      "4.5,3.0\r\n"
     ]
    }
   ],
   "source": [
    "!cat test.csv"
   ]
  },
  {
   "cell_type": "markdown",
   "metadata": {},
   "source": [
    "## Class Properties"
   ]
  },
  {
   "cell_type": "markdown",
   "metadata": {},
   "source": [
    "* Properties can be used to do interesting things\n",
    "* Lets adjust the class Particle we used:\n"
   ]
  },
  {
   "cell_type": "code",
   "execution_count": 160,
   "metadata": {
    "collapsed": false
   },
   "outputs": [],
   "source": [
    "class Particle:\n",
    "    def __init__(self, r0, v0):\n",
    "        \"\"\"\n",
    "        r0 = initial position\n",
    "        v0 = initial speed\n",
    "        \"\"\"\n",
    "        self._r = r0\n",
    "        self._v = v0\n",
    "    \n",
    "    def step(self, dt, L):\n",
    "        \"\"\"\n",
    "        Move the particle\n",
    "        dt = timestep\n",
    "        L = length of the containing box\n",
    "        \"\"\"\n",
    "        self._r = self._r + self._v * dt\n",
    "        \n",
    "        if self._r >= L:\n",
    "            self._r -= L\n",
    "        elif self._r < 0:\n",
    "            self._r += L\n",
    "    \n",
    "    @property\n",
    "    def r(self):\n",
    "        return self._r\n",
    "    \n",
    "    @r.setter\n",
    "    def r_setter(self, value):\n",
    "        self._r = value\n",
    "        \n",
    "    @property\n",
    "    def v(self):\n",
    "        return self._v\n",
    "    \n",
    "    @r.setter\n",
    "    def r_setter(self, value):\n",
    "        self._v = value"
   ]
  },
  {
   "cell_type": "markdown",
   "metadata": {},
   "source": [
    "## Why bother? It looks the same!\n",
    "\n",
    "* Well known in programming - 'an interface is a contract'\n",
    "* You might want to at some point rewrite a large portion of the underlying data - how it is stored for example.\n",
    "* If you do this without using properties to access the data, you then need to go through all code that uses this class and change it to use the new variable names."
   ]
  },
  {
   "cell_type": "markdown",
   "metadata": {},
   "source": [
    "# Inheritance"
   ]
  },
  {
   "cell_type": "markdown",
   "metadata": {},
   "source": [
    "* Last part of the course on Classes, but also the main reason for using classes!\n",
    "* Inheritance allows you to reuse parts of the code, but change some of the methods. Lets see how it might be useful...\n",
    "\n"
   ]
  },
  {
   "cell_type": "code",
   "execution_count": 178,
   "metadata": {
    "collapsed": true
   },
   "outputs": [],
   "source": [
    "class SlowParticle(Particle):\n",
    "    def __init__(self, r0, v0, slowing_factor):\n",
    "        Particle.__init__(self, r0, v0)\n",
    "        self.factor = slowing_factor\n",
    "    \n",
    "    def step(self, dt, L):\n",
    "        \"\"\"\n",
    "        Move the particle, but change so that if the particle bounces off of a wall,\n",
    "        it slows down by 50%\n",
    "        dt = timestep\n",
    "        L = length of the containing box\n",
    "        \"\"\"\n",
    "        self._r = self._r + self._v * dt\n",
    "        \n",
    "        if self._r >= L:\n",
    "            self._r -= L\n",
    "            self._v /= factor\n",
    "        elif self._r < 0:\n",
    "            self._r += L\n",
    "            self._v /= factor"
   ]
  },
  {
   "cell_type": "markdown",
   "metadata": {},
   "source": [
    "* Here we have **inherited** most of the class Particle, and just changed the method 'step' to do something differently. Because we kept the properties the same, we can use this class everywhere that we could use Particle - our Box class can take a mixture of Particles and SlowParticles"
   ]
  }
 ],
 "metadata": {
  "kernelspec": {
   "display_name": "Python 2",
   "language": "python",
   "name": "python2"
  },
  "language_info": {
   "codemirror_mode": {
    "name": "ipython",
    "version": 2
   },
   "file_extension": ".py",
   "mimetype": "text/x-python",
   "name": "python",
   "nbconvert_exporter": "python",
   "pygments_lexer": "ipython2",
   "version": "2.7.12"
  }
 },
 "nbformat": 4,
 "nbformat_minor": 2
}
