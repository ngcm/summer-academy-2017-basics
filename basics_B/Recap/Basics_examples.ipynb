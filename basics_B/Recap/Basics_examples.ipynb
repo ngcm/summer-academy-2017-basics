{
 "cells": [
  {
   "cell_type": "markdown",
   "metadata": {},
   "source": [
    "#### <font color='midnightblue'> Important things to discuss:\n",
    "    - List indexing begins at 0 \n",
    "    - Python is call by value"
   ]
  },
  {
   "cell_type": "markdown",
   "metadata": {},
   "source": [
    "### <font color='mediumblue'> Lists"
   ]
  },
  {
   "cell_type": "markdown",
   "metadata": {},
   "source": [
    "#### <font color='midnightblue'> Example: Indexed"
   ]
  },
  {
   "cell_type": "code",
   "execution_count": 3,
   "metadata": {},
   "outputs": [
    {
     "name": "stdout",
     "output_type": "stream",
     "text": [
      "10\n",
      "18\n"
     ]
    }
   ],
   "source": [
    "list1 = [10, 12, 14, 16, 18]\n",
    "\n",
    "print(list1[0])      # Index starts at 0\n",
    "\n",
    "print(list1[-1])     # Last index at -1"
   ]
  },
  {
   "cell_type": "markdown",
   "metadata": {},
   "source": [
    "#### <font color='midnightblue'> Example: Slicable"
   ]
  },
  {
   "cell_type": "code",
   "execution_count": 4,
   "metadata": {},
   "outputs": [
    {
     "name": "stdout",
     "output_type": "stream",
     "text": [
      "[10, 12, 14]\n",
      "[16, 18]\n"
     ]
    }
   ],
   "source": [
    "print(list1[0:3])    # Slicing: exclusive of end value\n",
    "                     #  i.e. get i=(0, 1, .. n-1)\n",
    "\n",
    "print(list1[3:])     # \"slice from i=3 to end\""
   ]
  },
  {
   "cell_type": "markdown",
   "metadata": {},
   "source": [
    "#### <font color='midnightblue'> Example: Mutable & Mixed Data Types"
   ]
  },
  {
   "cell_type": "code",
   "execution_count": 5,
   "metadata": {},
   "outputs": [
    {
     "name": "stdout",
     "output_type": "stream",
     "text": [
      "[10, 12, 14, 16, 18, 20]\n",
      "[10, 12, 14, 16, 18, 20, 22, 24, 26]\n",
      "[10, 12, 14, 'squirrel', 18, 20, 22, 24, 26]\n",
      "[10, 12, 14, 18, 20, 22, 24, 26]\n",
      "[10, 12, 14, 16, 18, 20, 22, 24, 26]\n"
     ]
    }
   ],
   "source": [
    "list1.append(20)\n",
    "print(list1)\n",
    "\n",
    "list1.extend([22,24,26])\n",
    "print(list1)\n",
    "\n",
    "list1[3]='squirrel'\n",
    "print(list1)\n",
    "\n",
    "list1.remove('squirrel')\n",
    "print(list1)\n",
    "\n",
    "list1.insert(3,16)\n",
    "print(list1)"
   ]
  },
  {
   "cell_type": "markdown",
   "metadata": {},
   "source": [
    "### <font color='mediumblue'> Tuples"
   ]
  },
  {
   "cell_type": "markdown",
   "metadata": {},
   "source": [
    "#### <font color='midnightblue'> Example: Immutable"
   ]
  },
  {
   "cell_type": "code",
   "execution_count": 6,
   "metadata": {},
   "outputs": [
    {
     "name": "stdout",
     "output_type": "stream",
     "text": [
      "(10, 12, 14, 16, 18)\n",
      "10\n",
      "(12, 14)\n",
      "(16, 18)\n"
     ]
    },
    {
     "ename": "AttributeError",
     "evalue": "'tuple' object has no attribute 'append'",
     "output_type": "error",
     "traceback": [
      "\u001b[0;31m---------------------------------------------------------------------------\u001b[0m",
      "\u001b[0;31mAttributeError\u001b[0m                            Traceback (most recent call last)",
      "\u001b[0;32m<ipython-input-6-0ac614ae44ab>\u001b[0m in \u001b[0;36m<module>\u001b[0;34m()\u001b[0m\n\u001b[1;32m      5\u001b[0m \u001b[0mprint\u001b[0m\u001b[0;34m(\u001b[0m\u001b[0mtuple1\u001b[0m\u001b[0;34m[\u001b[0m\u001b[0;36m3\u001b[0m\u001b[0;34m:\u001b[0m\u001b[0;34m]\u001b[0m\u001b[0;34m)\u001b[0m\u001b[0;34m\u001b[0m\u001b[0m\n\u001b[1;32m      6\u001b[0m \u001b[0;34m\u001b[0m\u001b[0m\n\u001b[0;32m----> 7\u001b[0;31m \u001b[0mtuple1\u001b[0m\u001b[0;34m.\u001b[0m\u001b[0mappend\u001b[0m\u001b[0;34m(\u001b[0m\u001b[0;36m20\u001b[0m\u001b[0;34m)\u001b[0m\u001b[0;34m\u001b[0m\u001b[0m\n\u001b[0m\u001b[1;32m      8\u001b[0m \u001b[0mprint\u001b[0m\u001b[0;34m(\u001b[0m\u001b[0mtuple1\u001b[0m\u001b[0;34m)\u001b[0m\u001b[0;34m\u001b[0m\u001b[0m\n",
      "\u001b[0;31mAttributeError\u001b[0m: 'tuple' object has no attribute 'append'"
     ]
    }
   ],
   "source": [
    "tuple1 = (10, 12, 14, 16, 18)\n",
    "print(tuple1)\n",
    "print(tuple1[0])\n",
    "print(tuple1[1:3])\n",
    "print(tuple1[3:])\n",
    "\n",
    "tuple1.append(20)\n",
    "print(tuple1)"
   ]
  },
  {
   "cell_type": "markdown",
   "metadata": {},
   "source": [
    "#### <font color='midnightblue'> Example: Lists of tuples"
   ]
  },
  {
   "cell_type": "code",
   "execution_count": null,
   "metadata": {},
   "outputs": [],
   "source": [
    "listoftuples=[tuple1[:3], tuple1[3:]]\n",
    "print(listoftuples)"
   ]
  },
  {
   "cell_type": "markdown",
   "metadata": {},
   "source": [
    "#### <font color='midnightblue'> Example: Tuples are faster"
   ]
  },
  {
   "cell_type": "code",
   "execution_count": null,
   "metadata": {},
   "outputs": [],
   "source": [
    "%timeit tuple1=(10,12,14,16,18)\n",
    "%timeit list1=[10,12,14,16,18]\n",
    "#%timeit tuple1[3:]\n",
    "#%timeit list1[3:]"
   ]
  },
  {
   "cell_type": "markdown",
   "metadata": {},
   "source": [
    "#### <font color='midnightblue'> Example: Unpacking Tuples"
   ]
  },
  {
   "cell_type": "code",
   "execution_count": null,
   "metadata": {},
   "outputs": [],
   "source": [
    "tuple2 = 'Lucy','Ryan'\n",
    "a, b = tuple2\n",
    "print('{} is OK, {} is amazing!'.format(a, b))\n",
    "\n",
    "b, a = a, b\n",
    "print('{} is OK, {} is amazing!'.format(a, b))"
   ]
  },
  {
   "cell_type": "markdown",
   "metadata": {},
   "source": [
    "### <font color='mediumblue'> Numpy Arrays"
   ]
  },
  {
   "cell_type": "markdown",
   "metadata": {},
   "source": [
    "#### <font color='midnightblue'> Example: How to use"
   ]
  },
  {
   "cell_type": "code",
   "execution_count": 7,
   "metadata": {},
   "outputs": [
    {
     "name": "stdout",
     "output_type": "stream",
     "text": [
      "[10 12 14 16 18 20 22 24 26]\n",
      "[  0.   1.   2.   3.   4.   5.   6.   7.   8.   9.  10.]\n",
      "[  0.   1.   2.   3.   4.   5.   6.   7.   8.   9.  10.]\n",
      "[ 0  1  2  3  4  5  6  7  8  9 10]\n"
     ]
    }
   ],
   "source": [
    "# To use numpy, we first have to import the package\n",
    "import numpy as np\n",
    "\n",
    "# Can convert a list to an array:\n",
    "array1=np.array(list1)\n",
    "print(array1)\n",
    "\n",
    "\n",
    "# Can make an evenly spaced array between 2 values using linspace or arange.\n",
    "# linspace takes the number of points to use as an argument and returns floats by default\n",
    "print(np.linspace(0, 10, 11))\n",
    "\n",
    "# arange takes the spacing as an argument and returns the type given as the spacing, e.g.\n",
    "print(np.arange(0, 11, 1.)) \n",
    "print(np.arange(0, 11, 1))"
   ]
  },
  {
   "cell_type": "markdown",
   "metadata": {},
   "source": [
    "#### <font color='midnightblue'> Example: Useful functions"
   ]
  },
  {
   "cell_type": "code",
   "execution_count": 8,
   "metadata": {},
   "outputs": [
    {
     "name": "stdout",
     "output_type": "stream",
     "text": [
      "The average of array1 is 18.0\n",
      "The sum of array1 is 162\n",
      "[  2.20264658e+04   1.62754791e+05   1.20260428e+06   8.88611052e+06\n",
      "   6.56599691e+07   4.85165195e+08   3.58491285e+09   2.64891221e+10\n",
      "   1.95729609e+11]\n",
      "[0 0 0 0 0 0 0 0 0]\n",
      "[ 0.1         0.08333333  0.07142857  0.0625      0.05555556  0.05\n",
      "  0.04545455  0.04166667  0.03846154]\n"
     ]
    },
    {
     "data": {
      "text/plain": [
       "array([  0.00000000e+00,   1.00000000e+00,   1.22464680e-16,\n",
       "         7.07106781e-01])"
      ]
     },
     "execution_count": 8,
     "metadata": {},
     "output_type": "execute_result"
    }
   ],
   "source": [
    "print('The average of array1 is', np.average(array1))\n",
    "print('The sum of array1 is', np.sum(array1))\n",
    "\n",
    "# Apply functions\n",
    "print(np.exp(array1))\n",
    "print(np.reciprocal(array1))\n",
    "\n",
    "array2=np.array([float(array1[i]) for i in range(len(array1))])\n",
    "a=np.reciprocal(array2)\n",
    "\n",
    "print(np.reciprocal([float(array1[i]) for i in range(len(array1))]))\n",
    "\n",
    "angles=np.array([0, np.pi/2., np.pi, 3*np.pi/4.])\n",
    "np.sin(angles)\n"
   ]
  },
  {
   "cell_type": "markdown",
   "metadata": {},
   "source": [
    " #### <font color='midnightblue'> Example: 2d Arrays"
   ]
  },
  {
   "cell_type": "code",
   "execution_count": 20,
   "metadata": {},
   "outputs": [
    {
     "name": "stdout",
     "output_type": "stream",
     "text": [
      "M1:\n",
      "[[2 3]\n",
      " [6 3]]\n",
      "M2:\n",
      "[[5 6]\n",
      " [2 9]]\n"
     ]
    }
   ],
   "source": [
    "M1 = np.array([[2,3],[6,3]])\n",
    "M2 = np.array([[5,6],[2,9]])\n",
    "\n",
    "print('M1:')\n",
    "print(M1)\n",
    "\n",
    "print('M2:')\n",
    "print(M2)"
   ]
  },
  {
   "cell_type": "code",
   "execution_count": 21,
   "metadata": {},
   "outputs": [
    {
     "name": "stdout",
     "output_type": "stream",
     "text": [
      "[[10 18]\n",
      " [12 27]] \n",
      "\n",
      "[[16 39]\n",
      " [36 63]]\n"
     ]
    }
   ],
   "source": [
    "M3 = M1 * M2            # Element-wise multiplication\n",
    "print(M3, '\\n')\n",
    "\n",
    "M4 = np.dot(M1, M2)     # Matrix multiplication\n",
    "print(M4)"
   ]
  },
  {
   "cell_type": "code",
   "execution_count": 9,
   "metadata": {},
   "outputs": [
    {
     "ename": "SyntaxError",
     "evalue": "invalid syntax (<ipython-input-9-c37ace85f0a6>, line 1)",
     "output_type": "error",
     "traceback": [
      "\u001b[0;36m  File \u001b[0;32m\"<ipython-input-9-c37ace85f0a6>\"\u001b[0;36m, line \u001b[0;32m1\u001b[0m\n\u001b[0;31m    M1 .* M2\u001b[0m\n\u001b[0m        ^\u001b[0m\n\u001b[0;31mSyntaxError\u001b[0m\u001b[0;31m:\u001b[0m invalid syntax\n"
     ]
    }
   ],
   "source": [
    "M1 .* M2"
   ]
  },
  {
   "cell_type": "markdown",
   "metadata": {
    "collapsed": true
   },
   "source": [
    "### <font color='mediumblue'> Dictionaries"
   ]
  },
  {
   "cell_type": "markdown",
   "metadata": {},
   "source": [
    "#### <font color='midnightblue'> Example: How to use"
   ]
  },
  {
   "cell_type": "code",
   "execution_count": 10,
   "metadata": {},
   "outputs": [
    {
     "name": "stdout",
     "output_type": "stream",
     "text": [
      "{'apples': 50, 'pears': 60, 'bananas': 20}\n",
      "True\n",
      "The price of apples is 50p.\n"
     ]
    },
    {
     "ename": "KeyError",
     "evalue": "0",
     "output_type": "error",
     "traceback": [
      "\u001b[0;31m---------------------------------------------------------------------------\u001b[0m",
      "\u001b[0;31mKeyError\u001b[0m                                  Traceback (most recent call last)",
      "\u001b[0;32m<ipython-input-10-09f1927ffc15>\u001b[0m in \u001b[0;36m<module>\u001b[0;34m()\u001b[0m\n\u001b[1;32m     14\u001b[0m \u001b[0;34m\u001b[0m\u001b[0m\n\u001b[1;32m     15\u001b[0m \u001b[0;31m# Trying to use an index wouldn't work:\u001b[0m\u001b[0;34m\u001b[0m\u001b[0;34m\u001b[0m\u001b[0m\n\u001b[0;32m---> 16\u001b[0;31m \u001b[0mprint\u001b[0m\u001b[0;34m(\u001b[0m\u001b[0mprice_table\u001b[0m\u001b[0;34m[\u001b[0m\u001b[0;36m0\u001b[0m\u001b[0;34m]\u001b[0m\u001b[0;34m)\u001b[0m\u001b[0;34m\u001b[0m\u001b[0m\n\u001b[0m",
      "\u001b[0;31mKeyError\u001b[0m: 0"
     ]
    }
   ],
   "source": [
    "price_table = {'apples': 50, 'pears': 60, 'bananas': 20}\n",
    "print(price_table)\n",
    "\n",
    "fruit = [('apples', 50), ('bananas', 20), ('pears', 60)]\n",
    "price_table1 = dict(fruit)\n",
    "print(price_table==price_table1)\n",
    "\n",
    "# NOTE: the order when you define a dictionary doesn't matter, it's ordered with a hashtable not \n",
    "# with indexing lists and tuples\n",
    "\n",
    "# To get a value out, you use square brackets but instead of an index, you use the key:\n",
    "akey = 'apples'\n",
    "print(\"The price of {} is {}p.\".format(akey, price_table[akey]))\n",
    "\n",
    "# Trying to use an index wouldn't work:\n",
    "print(price_table[0])"
   ]
  },
  {
   "cell_type": "code",
   "execution_count": 11,
   "metadata": {},
   "outputs": [
    {
     "data": {
      "text/plain": [
       "dict_keys(['apples', 'pears', 'bananas'])"
      ]
     },
     "execution_count": 11,
     "metadata": {},
     "output_type": "execute_result"
    }
   ],
   "source": [
    "price_table.keys()"
   ]
  },
  {
   "cell_type": "code",
   "execution_count": 62,
   "metadata": {},
   "outputs": [
    {
     "name": "stdout",
     "output_type": "stream",
     "text": [
      "Adding 50 apples at 50p each.\n",
      "Adding 20 bananas at 20p each.\n",
      "Total shopping cost is £29.00.\n"
     ]
    }
   ],
   "source": [
    "# Example usage: \n",
    "shopping_list = [('apples', 50), ('bananas', 20)]\n",
    "total = 0\n",
    "for item, quantity in shopping_list:\n",
    "    price = price_table[item]\n",
    "    print('Adding {} {} at {}p each.'.format(quantity, item, price))\n",
    "    total += price * quantity\n",
    "\n",
    "print('Total shopping cost is £%.2f.' %(total/100.))"
   ]
  },
  {
   "cell_type": "markdown",
   "metadata": {},
   "source": [
    "#### <font color='midnightblue'> Example: Mutable"
   ]
  },
  {
   "cell_type": "code",
   "execution_count": 63,
   "metadata": {},
   "outputs": [
    {
     "name": "stdout",
     "output_type": "stream",
     "text": [
      "{'apples': 50, 'pears': 60, 'bananas': 20, 'kiwis': 30}\n",
      "{'apples': 50, 'pears': 60, 'kiwis': 30}\n",
      "{'apples': 25, 'pears': 60, 'kiwis': 30}\n"
     ]
    }
   ],
   "source": [
    "price_table['kiwis']=30\n",
    "print(price_table)\n",
    "\n",
    "del price_table['bananas']\n",
    "print(price_table)\n",
    "\n",
    "price_table['apples']=25\n",
    "print(price_table)\n"
   ]
  },
  {
   "cell_type": "markdown",
   "metadata": {},
   "source": [
    "#### <font color='midnightblue'> Example: Iterating"
   ]
  },
  {
   "cell_type": "code",
   "execution_count": 54,
   "metadata": {},
   "outputs": [
    {
     "name": "stdout",
     "output_type": "stream",
     "text": [
      "apples cost 50p\n",
      "pears cost 60p\n",
      "bananas cost 20p\n",
      "kiwis cost 30p\n"
     ]
    }
   ],
   "source": [
    "# Iterating over the dictionary will iterate over its keys\n",
    "for key in price_table:\n",
    "    print(\"{} cost {}p\".format(key, price_table[key]))"
   ]
  },
  {
   "cell_type": "code",
   "execution_count": 51,
   "metadata": {},
   "outputs": [
    {
     "name": "stdout",
     "output_type": "stream",
     "text": [
      "apples cost 50p\n",
      "pears cost 60p\n",
      "bananas cost 20p\n",
      "kiwi cost 30p\n",
      "kiwis cost 30p\n"
     ]
    }
   ],
   "source": [
    "# Or use the items method:\n",
    "for key, val in price_table.items():\n",
    "    print(\"{} cost {}p\".format(key, val))"
   ]
  },
  {
   "cell_type": "markdown",
   "metadata": {},
   "source": [
    "# <font color='dodgerblue'> Functions"
   ]
  },
  {
   "cell_type": "markdown",
   "metadata": {},
   "source": [
    "#### <font color='midnightblue'> Example: Simple function"
   ]
  },
  {
   "cell_type": "code",
   "execution_count": 66,
   "metadata": {},
   "outputs": [
    {
     "name": "stdout",
     "output_type": "stream",
     "text": [
      "The square root of 10 is 3.1622776601683795\n",
      "4.47213595499958\n",
      "[1.0, 1.4142135623730951, 1.7320508075688772, 2.0]\n"
     ]
    }
   ],
   "source": [
    "def square_root(x):\n",
    "    \"\"\"Useful docstring: Calculates and returns square root of x\"\"\"\n",
    "    i = x ** 0.5\n",
    "    return i\n",
    "\n",
    "\n",
    "x = 10\n",
    "y = square_root(x)\n",
    "print('The square root of {} is {}'.format(x, y))\n",
    "\n",
    "# We can set a default value to the function \n",
    "def square_root(x=20):\n",
    "    i = x ** 0.5\n",
    "    return i\n",
    "\n",
    "\n",
    "print(square_root())\n",
    "\n",
    "# Loops, functions and appending\n",
    "mylist = []\n",
    "for i in range(1,5):\n",
    "    mylist.append(square_root(i))\n",
    "print(mylist)"
   ]
  },
  {
   "cell_type": "markdown",
   "metadata": {},
   "source": [
    "#### <font color='midnightblue'> Example: Arguments and mutability"
   ]
  },
  {
   "cell_type": "code",
   "execution_count": 67,
   "metadata": {},
   "outputs": [
    {
     "name": "stdout",
     "output_type": "stream",
     "text": [
      "1\n",
      "[0, 1, 2, 3, 50]\n"
     ]
    }
   ],
   "source": [
    "def update_integer(i):\n",
    "    # attempt to update i (integers) are immutable\n",
    "    i += 1\n",
    "\n",
    "def update_list_end(arglist):\n",
    "    arglist[-1] = 50   # Lists are mutable: updates args directly!\n",
    "\n",
    "a = 1\n",
    "update_integer(a)\n",
    "print(a)\n",
    "\n",
    "mylist = [0, 1, 2, 3, 4]\n",
    "update_list_end(mylist)\n",
    "print(mylist)"
   ]
  },
  {
   "cell_type": "markdown",
   "metadata": {},
   "source": [
    "# <font color='dodgerblue'> Plotting\n",
    "### <font color='mediumblue'> Matplotlib\n",
    "#### <font color='midnightblue'> Example: Simple Plot"
   ]
  },
  {
   "cell_type": "code",
   "execution_count": 38,
   "metadata": {},
   "outputs": [
    {
     "data": {
      "text/plain": [
       "[]"
      ]
     },
     "execution_count": 38,
     "metadata": {},
     "output_type": "execute_result"
    }
   ],
   "source": [
    "import matplotlib.pyplot as plt\n",
    "\n",
    "x = np.linspace(0, 2*np.pi)\n",
    "y = np.sin(x)\n",
    "\n",
    "fig = plt.figure(figsize=(12, 5))\n",
    "ax = fig.add_subplot(111)\n",
    "ax.plot(x, y,'o-')\n",
    "ax.margins(0.1)\n",
    "ax.set_title('2D plot')\n",
    "ax.set_xlabel('$x$')\n",
    "ax.set_ylabel(r'$sin(x)$')\n",
    "ax.plot()\n"
   ]
  },
  {
   "cell_type": "markdown",
   "metadata": {},
   "source": [
    "#### <font color='midnightblue'> Example: Labels, ticks and other appenditories"
   ]
  },
  {
   "cell_type": "code",
   "execution_count": 68,
   "metadata": {
    "collapsed": true
   },
   "outputs": [],
   "source": [
    "xtick_values = np.linspace(0, 2*np.pi, 5)\n",
    "xtick_labels = ['$0$', r'$\\frac{\\pi}{2}$', r'$\\pi$', r'$\\frac{3\\pi}{2}$',\n",
    "             r'$2\\pi$']\n",
    "fig = plt.figure(figsize=(12, 5))\n",
    "ax = fig.add_subplot(111); ax.plot(x, y,'-o')\n",
    "ax.set_title('2D plot')\n",
    "ax.margins(0.1)\n",
    "ax.set_xlabel('$x$');  ax.set_ylabel(r'$sin(x)$')\n",
    "ax.set_xticks(xtick_values)\n",
    "ax.set_xticklabels(xtick_labels, fontsize=25);"
   ]
  }
 ],
 "metadata": {
  "kernelspec": {
   "display_name": "Python 3",
   "language": "python",
   "name": "python3"
  },
  "language_info": {
   "codemirror_mode": {
    "name": "ipython",
    "version": 3
   },
   "file_extension": ".py",
   "mimetype": "text/x-python",
   "name": "python",
   "nbconvert_exporter": "python",
   "pygments_lexer": "ipython3",
   "version": "3.6.1"
  }
 },
 "nbformat": 4,
 "nbformat_minor": 2
}
